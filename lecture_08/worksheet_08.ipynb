{
 "cells": [
  {
   "attachments": {},
   "cell_type": "markdown",
   "metadata": {},
   "source": [
    "# Worksheet 08\n",
    "\n",
    "Name:  Matias Ou\n",
    "\n",
    "UID: U34955662\n",
    "\n",
    "### Topics\n",
    "\n",
    "- Soft Clustering\n",
    "- Clustering Aggregation\n",
    "\n",
    "### Probability Review\n",
    "\n",
    "Read through [the following](https://medium.com/@gallettilance/overview-of-probability-3272b72c82c8)\n",
    "\n",
    "### Soft Clustering\n",
    "\n",
    "We generate 10 data points that come from a normal distribution with mean 5 and variance 1."
   ]
  },
  {
   "cell_type": "code",
   "execution_count": 1,
   "metadata": {},
   "outputs": [
    {
     "name": "stdout",
     "output_type": "stream",
     "text": [
      "[4.474666313321234, 4.9007900622039955, 5.489326717412839, 5.457797583411638, 5.651762079546216, 5.979600290718157, 5.921465756270656, 4.4312614841138345, 4.074994590614171, 5.707938221396806]\n"
     ]
    }
   ],
   "source": [
    "import random\n",
    "import numpy as np\n",
    "from sklearn.cluster import KMeans\n",
    "\n",
    "mean = 5\n",
    "stdev = 1\n",
    "\n",
    "c1 = np.random.normal(mean, stdev, 10).tolist()\n",
    "print(c1)"
   ]
  },
  {
   "cell_type": "markdown",
   "metadata": {},
   "source": [
    "a) Generate 10 more data points, this time coming from a normal distribution with mean 8 and variance 1."
   ]
  },
  {
   "cell_type": "code",
   "execution_count": 5,
   "metadata": {},
   "outputs": [
    {
     "name": "stdout",
     "output_type": "stream",
     "text": [
      "[7.081143356045585, 9.610091399482759, 8.164616801166902, 6.806362346159154, 9.120035447574962, 7.237889097525699, 7.710058009365292, 7.042569170237867, 8.929622767271953, 9.328113353689707]\n"
     ]
    }
   ],
   "source": [
    "\n",
    "mean = 8\n",
    "stdev = 1  \n",
    "\n",
    "c2 = np.random.normal(mean, stdev, 10).tolist()\n",
    "\n",
    "print(c2)\n",
    "\n",
    "\n"
   ]
  },
  {
   "cell_type": "markdown",
   "metadata": {},
   "source": [
    "b) Flip a fair coin 10 times. If the coin lands on H, then pick the last data point of `c1` and remove it from `c1`, if T then pick the last data point from `c2` and remove it from `c2`. Add these 10 points to a list called `data`."
   ]
  },
  {
   "cell_type": "code",
   "execution_count": 8,
   "metadata": {},
   "outputs": [
    {
     "name": "stdout",
     "output_type": "stream",
     "text": [
      "[9.328113353689707, 5.651762079546216, 5.457797583411638, 8.929622767271953, 7.042569170237867, 7.710058009365292, 7.237889097525699, 5.489326717412839, 9.120035447574962, 4.9007900622039955]\n"
     ]
    }
   ],
   "source": [
    "data = []\n",
    "for i in range(10):\n",
    "    # flip coin\n",
    "    coin_output = random.choice([0, 1])\n",
    "    if coin_output == 0:\n",
    "        p1 = c1.pop()\n",
    "        data.append(p1)\n",
    "    else:\n",
    "        p2 = c2.pop()\n",
    "        data.append(p2)\n",
    "print(data)"
   ]
  },
  {
   "cell_type": "markdown",
   "metadata": {},
   "source": [
    "c) This `data` is a Gaussian Mixture Distribution with 2 mixture components. Over the next few questions we will walk through the GMM algorithm to see if we can uncover the parameters we used to generate this data. First, please list all these parameters of the GMM that created `data` and the values we know they have."
   ]
  },
  {
   "cell_type": "markdown",
   "metadata": {},
   "source": [
    "- mean, variance, and mixture weight. \n"
   ]
  },
  {
   "cell_type": "markdown",
   "metadata": {},
   "source": [
    "d) Let's assume there are two mixture components (note: we could plot the data and make the observation that there are two clusters). The EM algorithm asks us to start with a random `mean_j`, `variance_j`, `P(C_j)` for each component j. One method we could use to find sensible values for these is to apply K means with k=2 here.\n",
    "\n",
    "1. the centroids would be the estimates of the `mean_j`\n",
    "2. the intra-cluster variance could be the estimate of `variance_j`\n",
    "3. the proportion of points in each cluster could be the estimate of `P(C_j)`\n",
    "\n",
    "Go through this process and list the parameter estimates it gives. Are they close or far from the true values?"
   ]
  },
  {
   "cell_type": "code",
   "execution_count": 9,
   "metadata": {},
   "outputs": [
    {
     "name": "stdout",
     "output_type": "stream",
     "text": [
      "[9.328113353689707, 8.929622767271953, 7.042569170237867, 7.710058009365292, 7.237889097525699, 9.120035447574962]\n",
      "[5.651762079546216, 5.457797583411638, 5.489326717412839, 4.9007900622039955]\n",
      "P(C_1) = 0.6,  P(C_2) = 0.4\n",
      "mean_1 = 8.22804797427758,  mean_2 = 5.374919110643672\n",
      "var_1 = 0.8586801469089168,  var_2 = 0.08034958143502166\n"
     ]
    },
    {
     "name": "stderr",
     "output_type": "stream",
     "text": [
      "/Users/matias/Library/Python/3.9/lib/python/site-packages/sklearn/cluster/_kmeans.py:1416: FutureWarning: The default value of `n_init` will change from 10 to 'auto' in 1.4. Set the value of `n_init` explicitly to suppress the warning\n",
      "  super()._check_params_vs_input(X, default_n_init=10)\n"
     ]
    }
   ],
   "source": [
    "kmeans = KMeans(2, init='k-means++').fit(X=np.array(data).reshape(-1, 1))\n",
    "\n",
    "c1 = [x[0] for x in filter(lambda x: x[1] == 0, zip(data, kmeans.labels_))]\n",
    "print(c1)\n",
    "c2 = [x[0] for x in filter(lambda x: x[1] == 1, zip(data, kmeans.labels_))]\n",
    "print(c2)\n",
    "\n",
    "prob_c = [len(c1) / (len(c1) + len(c2)), len(c2) / (len(c1) + len(c2))]\n",
    "mean = [sum(c1)/len(c1), sum(c2)/len(c2)]\n",
    "var = [sum(map(lambda x: (x - mean[0])**2, c1)) / len(c1), sum(map(lambda x: (x - mean[1])**2, c2)) / len(c2)]\n",
    "\n",
    "print(\"P(C_1) = \" + str(prob_c[0]) + \",  P(C_2) = \" + str(prob_c[1]))\n",
    "print(\"mean_1 = \" + str(mean[0]) + \",  mean_2 = \" + str(mean[1]))\n",
    "print(\"var_1 = \" + str(var[0]) + \",  var_2 = \" + str(var[1]))"
   ]
  },
  {
   "cell_type": "markdown",
   "metadata": {},
   "source": [
    "The algorithm estimates are pretty close to the known true values."
   ]
  },
  {
   "cell_type": "markdown",
   "metadata": {},
   "source": [
    "e) For each data point, compute `P(C_j | X_i)`. Comment on which cluster you think each point belongs to based on the estimated probabilities. How does that compare to the truth?"
   ]
  },
  {
   "cell_type": "code",
   "execution_count": 10,
   "metadata": {},
   "outputs": [
    {
     "name": "stdout",
     "output_type": "stream",
     "text": [
      "point =  9.328113353689707\n",
      "probability of observing that point if it came from cluster 0 =  0.21279785901609494\n",
      "probability of observing that point if it came from cluster 1 =  8.202617478134658e-43\n",
      "point =  5.651762079546216\n",
      "probability of observing that point if it came from cluster 0 =  0.00902681036305216\n",
      "probability of observing that point if it came from cluster 1 =  0.8735560784736964\n",
      "point =  5.457797583411638\n",
      "probability of observing that point if it came from cluster 0 =  0.0049349529410709515\n",
      "probability of observing that point if it came from cluster 1 =  1.3485125714771835\n",
      "point =  8.929622767271953\n",
      "probability of observing that point if it came from cluster 0 =  0.3232381332756642\n",
      "probability of observing that point if it came from cluster 1 =  9.987503068492646e-35\n",
      "point =  7.042569170237867\n",
      "probability of observing that point if it came from cluster 0 =  0.18993282882526086\n",
      "probability of observing that point if it came from cluster 1 =  4.2906791201456236e-08\n",
      "point =  7.710058009365292\n",
      "probability of observing that point if it came from cluster 0 =  0.36824927176617367\n",
      "probability of observing that point if it came from cluster 1 =  2.5814141153673346e-15\n",
      "point =  7.237889097525699\n",
      "probability of observing that point if it came from cluster 0 =  0.24325529862194759\n",
      "probability of observing that point if it came from cluster 1 =  5.872991700958792e-10\n",
      "point =  5.489326717412839\n",
      "probability of observing that point if it came from cluster 0 =  0.005460185266932339\n",
      "probability of observing that point if it came from cluster 1 =  1.2973123594075058\n",
      "point =  9.120035447574962\n",
      "probability of observing that point if it came from cluster 0 =  0.27088727043781974\n",
      "probability of observing that point if it came from cluster 1 =  1.749836200922388e-38\n",
      "point =  4.9007900622039955\n",
      "probability of observing that point if it came from cluster 0 =  0.0006829601669854444\n",
      "probability of observing that point if it came from cluster 1 =  0.34745112073924583\n",
      "9.328113353689707\n",
      "Probability of coming from C_1 = 1.0\n",
      "Probability of coming from C_2 = 2.5697681721864363e-42\n",
      "\n",
      "5.651762079546216\n",
      "Probability of coming from C_1 = 0.015263523966767131\n",
      "Probability of coming from C_2 = 0.9847364760332329\n",
      "\n",
      "5.457797583411638\n",
      "Probability of coming from C_1 = 0.005459360953123315\n",
      "Probability of coming from C_2 = 0.9945406390468766\n",
      "\n",
      "8.929622767271953\n",
      "Probability of coming from C_1 = 1.0\n",
      "Probability of coming from C_2 = 2.059885481802585e-34\n",
      "\n",
      "7.042569170237867\n",
      "Probability of coming from C_1 = 0.9999998493966349\n",
      "Probability of coming from C_2 = 1.506033650771121e-07\n",
      "\n",
      "7.710058009365292\n",
      "Probability of coming from C_1 = 0.9999999999999953\n",
      "Probability of coming from C_2 = 4.673309292165981e-15\n",
      "\n",
      "7.237889097525699\n",
      "Probability of coming from C_1 = 0.9999999983904451\n",
      "Probability of coming from C_2 = 1.609554988737253e-09\n",
      "\n",
      "5.489326717412839\n",
      "Probability of coming from C_1 = 0.006273658640236682\n",
      "Probability of coming from C_2 = 0.9937263413597635\n",
      "\n",
      "9.120035447574962\n",
      "Probability of coming from C_1 = 1.0\n",
      "Probability of coming from C_2 = 4.306431473860516e-38\n",
      "\n",
      "4.9007900622039955\n",
      "Probability of coming from C_1 = 0.0029397764582646748\n",
      "Probability of coming from C_2 = 0.9970602235417353\n",
      "\n"
     ]
    }
   ],
   "source": [
    "from scipy.stats import norm\n",
    "\n",
    "prob_c0_x = [] # P(C_0 | X_i)\n",
    "prob_c1_x = [] # P(C_1 | X_i)\n",
    "prob_x = [] # P(X_i)\n",
    "\n",
    "k = 2\n",
    "\n",
    "for p in data:\n",
    "    print(\"point = \", p)\n",
    "    pdf_i = []\n",
    "\n",
    "    for j in range(k):\n",
    "        # P(X_i | C_j)\n",
    "        pdf_i.append(norm.pdf(p, mean[j], var[j]**0.5))\n",
    "        print(\"probability of observing that point if it came from cluster \" + str(j) + \" = \", pdf_i[j])\n",
    "\n",
    "    # P(X_i) = P(C_0)P(X_i | C_0) + P(C_1)P(X_i | C_1)\n",
    "    prob_x_i = prob_c[0] * pdf_i[0] + prob_c[1] * pdf_i[1]\n",
    "    prob_x.append(prob_x_i)\n",
    "\n",
    "    # P(C_j | X_i) = P(X_i | C_j)P(C_j) / P(X_i)\n",
    "    prob_c0_x.append(pdf_i[0] * prob_c[0] / prob_x_i)\n",
    "    prob_c1_x.append(pdf_i[1] * prob_c[1] / prob_x_i)\n",
    "\n",
    "probs = zip(data, prob_c0_x, prob_c1_x)\n",
    "for p in probs:\n",
    "    print(p[0])\n",
    "    print(\"Probability of coming from C_1 = \" + str(p[1]))\n",
    "    print(\"Probability of coming from C_2 = \" + str(p[2]))\n",
    "    print()\n"
   ]
  },
  {
   "cell_type": "markdown",
   "metadata": {},
   "source": [
    "f) Having computed `P(C_j | X_i)`, update the estimates of `mean_j`, `var_j`, and `P(C_j)`. How different are these values from the original ones you got from K means? briefly comment."
   ]
  },
  {
   "cell_type": "code",
   "execution_count": 11,
   "metadata": {},
   "outputs": [
    {
     "name": "stdout",
     "output_type": "stream",
     "text": [
      "P(C_1) = 0.6029936167805466,  P(C_2) = 0.3970063832194533\n",
      "mean_1 = 8.214546999694399,  mean_2 = 5.373911134535034\n",
      "var_1 = 0.8911847997776358,  var_2 = 0.08046329470293359\n"
     ]
    }
   ],
   "source": [
    "prob_c = [sum(prob_c0_x) / len(prob_c0_x),sum(prob_c1_x) / len(prob_c1_x)]\n",
    "\n",
    "mean = [sum([x[0] * x[1] for x in zip(prob_c0_x, data)]) / sum(prob_c0_x), sum([x[0] * x[1] for x in zip(prob_c1_x, data)]) / sum(prob_c1_x)]\n",
    "\n",
    "var = [sum([x[0] * (x[1] - mean[0])**2 for x in zip(prob_c0_x, data)]) / sum(prob_c0_x), sum([x[0] * (x[1] - mean[1])**2 for x in zip(prob_c1_x, data)]) / sum(prob_c1_x)]\n",
    "\n",
    "print(\"P(C_1) = \" + str(prob_c[0]) + \",  P(C_2) = \" + str(prob_c[1]))\n",
    "print(\"mean_1 = \" + str(mean[0]) + \",  mean_2 = \" + str(mean[1]))\n",
    "print(\"var_1 = \" + str(var[0]) + \",  var_2 = \" + str(var[1]))\n"
   ]
  },
  {
   "cell_type": "markdown",
   "metadata": {},
   "source": [
    "The means are consistent with the original Gaussian distributions, and the variances align with the spread of the data points in each cluster. The cluster probabilities, show the proportions of data points that are likely to belong to each cluster."
   ]
  },
  {
   "cell_type": "markdown",
   "metadata": {},
   "source": [
    "g) Update `P(C_j | X_i)`. Comment on any differences or lack thereof you observe."
   ]
  },
  {
   "cell_type": "code",
   "execution_count": 12,
   "metadata": {},
   "outputs": [
    {
     "name": "stdout",
     "output_type": "stream",
     "text": [
      "Data Point, Old P(C_1 | X_i), New P(C_1 | X_i), Old P(C_2 | X_i), New P(C_2 | X_i)\n",
      "9.328113353689707 1.0 1.0 2.5697681721864363e-42 2.7959433286302562e-42\n",
      "5.651762079546216 0.015263523966767131 0.018170838212527372 0.9847364760332329 0.9818291617874726\n",
      "5.457797583411638 0.005459360953123315 0.006663044705784223 0.9945406390468766 0.9933369552942157\n",
      "8.929622767271953 1.0 1.0 2.059885481802585e-34 2.214210700192806e-34\n",
      "7.042569170237867 0.9999998493966349 0.9999998551227443 1.506033650771121e-07 1.4487725568022638e-07\n",
      "7.710058009365292 0.9999999999999953 0.9999999999999952 4.673309292165981e-15 4.723265659109956e-15\n",
      "7.237889097525699 0.9999999983904451 0.9999999984272956 1.609554988737253e-09 1.5727044399749526e-09\n",
      "5.489326717412839 0.006273658640236682 0.007626484047315547 0.9937263413597635 0.9923735159526845\n",
      "9.120035447574962 1.0 1.0 4.306431473860516e-38 4.658222725520203e-38\n",
      "4.9007900622039955 0.0029397764582646748 0.003855677614732176 0.9970602235417353 0.9961443223852678\n"
     ]
    }
   ],
   "source": [
    "\n",
    "prob_c0_x_new = [] # Updated P(C_0 | X_i)\n",
    "prob_c1_x_new = [] # Updated P(C_1 | X_i)\n",
    "\n",
    "for p in data:\n",
    "    pdf_i = []\n",
    "\n",
    "    for j in range(k):\n",
    "        # P(X_i | C_j)\n",
    "        pdf_i.append(norm.pdf(p, mean[j], var[j]**0.5))\n",
    "    \n",
    "    # P(X_i) = P(C_0)P(X_i | C_0) + P(C_1)P(X_i | C_1)\n",
    "    prob_x_i = prob_c[0] * pdf_i[0] + prob_c[1] * pdf_i[1]\n",
    "\n",
    "    # P(C_j | X_i) = P(X_i | C_j)P(C_j) / P(X_i)\n",
    "    prob_c0_x_new.append(pdf_i[0] * prob_c[0] / prob_x_i)\n",
    "    prob_c1_x_new.append(pdf_i[1] * prob_c[1] / prob_x_i)\n",
    "\n",
    "# Print the differences\n",
    "print(\"Data Point, Old P(C_1 | X_i), New P(C_1 | X_i), Old P(C_2 | X_i), New P(C_2 | X_i)\")\n",
    "for old_p_c0, new_p_c0, old_p_c1, new_p_c1, p in zip(prob_c0_x, prob_c0_x_new, prob_c1_x, prob_c1_x_new, data):\n",
    "    print(p, old_p_c0, new_p_c0, old_p_c1, new_p_c1)\n"
   ]
  },
  {
   "cell_type": "markdown",
   "metadata": {},
   "source": [
    "the data points with high values are almost certainly from the Gaussian with the mean around 8. Conversely, the points with values around 5 are likely from the other Gaussian distribution."
   ]
  },
  {
   "cell_type": "markdown",
   "metadata": {},
   "source": [
    "h) Use `P(C_j | X_i)` to create a hard assignment - label each point as belonging to a specific cluster (0 or 1)"
   ]
  },
  {
   "cell_type": "code",
   "execution_count": 13,
   "metadata": {},
   "outputs": [
    {
     "name": "stdout",
     "output_type": "stream",
     "text": [
      "Data Point: 9.328113353689707, Cluster Assignment: 0\n",
      "Data Point: 5.651762079546216, Cluster Assignment: 1\n",
      "Data Point: 5.457797583411638, Cluster Assignment: 1\n",
      "Data Point: 8.929622767271953, Cluster Assignment: 0\n",
      "Data Point: 7.042569170237867, Cluster Assignment: 0\n",
      "Data Point: 7.710058009365292, Cluster Assignment: 0\n",
      "Data Point: 7.237889097525699, Cluster Assignment: 0\n",
      "Data Point: 5.489326717412839, Cluster Assignment: 1\n",
      "Data Point: 9.120035447574962, Cluster Assignment: 0\n",
      "Data Point: 4.9007900622039955, Cluster Assignment: 1\n"
     ]
    }
   ],
   "source": [
    "cluster_assignments = []\n",
    "\n",
    "for p_c0, p_c1 in zip(prob_c0_x_new, prob_c1_x_new):\n",
    "    if p_c0 > p_c1:\n",
    "        cluster_assignments.append(0)  # Point belongs to cluster C_0\n",
    "    else:\n",
    "        cluster_assignments.append(1)  # Point belongs to cluster C_1\n",
    "\n",
    "# Printing the assignments alongside the data points\n",
    "for data_point, cluster in zip(data, cluster_assignments):\n",
    "    print(f\"Data Point: {data_point}, Cluster Assignment: {cluster}\")\n"
   ]
  },
  {
   "cell_type": "markdown",
   "metadata": {},
   "source": [
    "### Clustering Aggregation\n",
    "\n",
    "| Point | C | P |\n",
    "|-------|---|---|\n",
    "| A     | 0 | a |\n",
    "| B     | 0 | b |\n",
    "| C     | 2 | b |\n",
    "| D     | 1 | c |\n",
    "| E     | 1 | d |\n",
    "\n",
    "a) Fill in the following table where for each pair of points determine whether C and P agree or disagree on how to cluster that pair."
   ]
  },
  {
   "cell_type": "markdown",
   "metadata": {},
   "source": [
    "| Pair | Disagreement |\n",
    "|------|--------------|\n",
    "| A  B |      no      |\n",
    "| A  C |      yes     |\n",
    "| A  D |     yes      |\n",
    "| A  E |      yes     |\n",
    "| B  C |      yes     |\n",
    "| B  D |      yes     |\n",
    "| B  E |      yes     |\n",
    "| C  D |      yes     |\n",
    "| C  E |      yes     |\n",
    "| D  E |      no      |\n"
   ]
  },
  {
   "cell_type": "markdown",
   "metadata": {},
   "source": [
    "As datasets become very large, this process can become computationally challenging.\n",
    "\n",
    "b) Given N points, what is the formula for the number of unique pairs of points one can create?"
   ]
  },
  {
   "cell_type": "markdown",
   "metadata": {},
   "source": [
    "$$ \\binom{N}{2} = \\frac{N!}{2!(N-2)!} \n",
    "\\\\\n",
    " \\binom{N}{2} = \\frac{N(N-1)}{2}$$\n"
   ]
  },
  {
   "cell_type": "markdown",
   "metadata": {},
   "source": [
    "Assume that clustering C clusters all points in the same cluster and clustering P clusters points as such:\n",
    "\n",
    "| Point | P |\n",
    "|-------|---|\n",
    "| A     | 0 |\n",
    "| B     | 0 |\n",
    "| C     | 0 |\n",
    "| D     | 1 |\n",
    "| E     | 1 |\n",
    "| F     | 2 |\n",
    "| G     | 2 |\n",
    "| H     | 2 |\n",
    "| I     | 2 |\n",
    "\n",
    "c) What is the maximum number of disagreements there could be for a dataset of this size? (use the formula from b)?"
   ]
  },
  {
   "cell_type": "markdown",
   "metadata": {},
   "source": [
    "\n",
    "$$\n",
    "\\text{Disagreements} = \\frac{3(3-1)}{2} = 3\n",
    "$$\n",
    "\n",
    "\n",
    "$$\n",
    "\\text{Disagreements} = \\frac{2(2-1)}{2} = 1\n",
    "$$\n",
    "\n",
    "\n",
    "$$\n",
    "\\text{Disagreements} = \\frac{4(4-1)}{2} = 6\n",
    "$$\n",
    "\n",
    "\n",
    "$$\n",
    "\\text{Total Disagreements} = 3 + 1 + 6 = 10\n",
    "$$"
   ]
  },
  {
   "cell_type": "markdown",
   "metadata": {},
   "source": [
    "d) If we look at cluster 0. There are (3 x 2) / 2 = 3 pairs that agree with C (since all points in C are in the same cluster). For each cluster, determine how many agreements there are. How many total agreements are there? How many disagreements does that mean there are between C and P?"
   ]
  },
  {
   "cell_type": "markdown",
   "metadata": {},
   "source": [
    "\n",
    "$$\n",
    "\\text{Agreements} = \\frac{3 \\times (3-1)}{2} = 3 \\\\\n",
    "\n",
    "\n",
    "\\text{Agreements} = \\frac{2 \\times (2-1)}{2} = 1\\\\\n",
    "\n",
    "\n",
    "\\text{Agreements} = \\frac{4 \\times (4-1)}{2} = 6\\\\\n",
    "$$\n",
    "$$\n",
    "So, the total number of agreements is $$\\(3 + 1 + 6 = 10\\).\\\\\n",
    "$$\n",
    "\\frac{9 \\times (9-1)}{2} = 36 \\\\\n",
    "\n",
    "\n",
    "\n",
    "\\text{Total Disagreements} = \\text{Total Pairs} - \\text{Total Agreements} = 36 - 10 = 26\n"
   ]
  },
  {
   "cell_type": "markdown",
   "metadata": {},
   "source": [
    "e) Assuming that filtering the dataset by cluster number is a computationally easy operation, describe an algorithm inspired by the above process that can efficiently compute disagreement distances on large datasets."
   ]
  },
  {
   "cell_type": "markdown",
   "metadata": {},
   "source": [
    "For each unique cluster in clustering P, extract its points. Count pairs within this subset that don't share the same cluster in C to determine disagreements. Sum up all disagreements from each cluster in P to get the total disagreements."
   ]
  }
 ],
 "metadata": {
  "interpreter": {
   "hash": "76ca05dc3ea24b2e3b98cdb7774adfbb40773424bf5109b477fd793f623715af"
  },
  "kernelspec": {
   "display_name": "Python 3.9.9 64-bit ('env': venv)",
   "language": "python",
   "name": "python3"
  },
  "language_info": {
   "codemirror_mode": {
    "name": "ipython",
    "version": 3
   },
   "file_extension": ".py",
   "mimetype": "text/x-python",
   "name": "python",
   "nbconvert_exporter": "python",
   "pygments_lexer": "ipython3",
   "version": "3.9.6"
  },
  "orig_nbformat": 4
 },
 "nbformat": 4,
 "nbformat_minor": 2
}
